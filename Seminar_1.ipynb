{
 "cells": [
  {
   "cell_type": "markdown",
   "id": "0909a6ee",
   "metadata": {},
   "source": [
    "## Условие 2\n",
    "На складе лежат разные фрукты в разном количестве.<br>\n",
    "Нужно написать функцию, которая на вход принимает любое количество названий фруктов и их количество, а возвращает общее количество фруктов на складе"
   ]
  },
  {
   "cell_type": "code",
   "execution_count": 94,
   "id": "10ae1783",
   "metadata": {},
   "outputs": [],
   "source": [
    "def fruit_basket(**kwargs): \n",
    "    {print(f'{name}s Amount {values} pc.')\n",
    "    for name, values in kwargs.items()}\n",
    "    return f'Toatal Fruits Amount: {sum(kwargs.values())} pc.'"
   ]
  },
  {
   "cell_type": "code",
   "execution_count": 95,
   "id": "f037f458",
   "metadata": {},
   "outputs": [
    {
     "name": "stdout",
     "output_type": "stream",
     "text": [
      "Lemons Amount 20 pc.\n",
      "Oranges Amount 15 pc.\n",
      "Apples Amount 51 pc.\n"
     ]
    },
    {
     "data": {
      "text/plain": [
       "'Toatal Fruits Amount: 86 pc.'"
      ]
     },
     "execution_count": 95,
     "metadata": {},
     "output_type": "execute_result"
    }
   ],
   "source": [
    "fruit_basket(\n",
    "    Lemon = 20,\n",
    "    Orange = 15,\n",
    "    Apple = 51\n",
    ")"
   ]
  },
  {
   "cell_type": "markdown",
   "id": "6f0a6817",
   "metadata": {},
   "source": [
    "## Условие 3\n",
    "Дан список с затратами на рекламу. <br>\n",
    "Но в данных есть ошибки, некоторые затраты имеют отрицательную величину. Удалите такие значения из списка и посчитайте суммарные затраты.<br>\n",
    "Используйте list comprehensions"
   ]
  },
  {
   "cell_type": "code",
   "execution_count": 87,
   "id": "b141f5e7",
   "metadata": {},
   "outputs": [
    {
     "name": "stdout",
     "output_type": "stream",
     "text": [
      "Adv Expenses Correct: [100, 125, 345, 655, 200]\n"
     ]
    },
    {
     "data": {
      "text/plain": [
       "'Total Expenses: 1425'"
      ]
     },
     "execution_count": 87,
     "metadata": {},
     "output_type": "execute_result"
    }
   ],
   "source": [
    "expenses = [100, 125, -90, 345, 655, -1, 0, 200]\n",
    "expenses_corr = [i for i in expenses if i > 0]\n",
    "print(f'Adv Expenses Correct: {expenses_corr}')\n",
    "f'Total Expenses: {sum(expenses_corr)}'"
   ]
  },
  {
   "cell_type": "markdown",
   "id": "345672dd",
   "metadata": {},
   "source": [
    "## Условие 4\n",
    "### Условие 4.1\n",
    "Даны два списка.\n",
    "Дата покупки и суммы покупок по датам.<br>\n",
    "Найдите, какая выручка у компании в ноябре.<br>\n",
    "Используйте list comprehensions."
   ]
  },
  {
   "cell_type": "code",
   "execution_count": 70,
   "id": "559812e8",
   "metadata": {},
   "outputs": [],
   "source": [
    "list_dates = ['2021-09-14', '2021-12-15', '2021-09-08', '2021-12-05', '2021-10-09', '2021-09-30', '2021-12-22', \n",
    "              '2021-11-29', '2021-12-24', '2021-11-26', '2021-10-27', '2021-12-18', '2021-11-09', '2021-11-23', \n",
    "              '2021-09-27', '2021-10-02', '2021-12-27', '2021-09-20', '2021-12-13', '2021-11-01', '2021-11-09', \n",
    "              '2021-12-06', '2021-12-08', '2021-10-09', '2021-10-31', '2021-09-30', '2021-11-09', '2021-12-13', \n",
    "              '2021-10-26', '2021-12-09']\n",
    "amount = [1270, 8413, 9028, 3703, 5739, 4095, 295, 4944, 5723, 3701, 4471, 651, 7037, 4274, 6275, 4988, 6930, \n",
    "          2971, 6592, 2004, 2822, 519, 3406, 2732, 5015, 2008, 316, 6333, 5700, 2887]"
   ]
  },
  {
   "cell_type": "code",
   "execution_count": 71,
   "id": "65c59a7e",
   "metadata": {},
   "outputs": [
    {
     "name": "stdout",
     "output_type": "stream",
     "text": [
      "['09', '12', '09', '12', '10', '09', '12', '11', '12', '11', '10', '12', '11', '11', '09', '10', '12', '09', '12', '11', '11', '12', '12', '10', '10', '09', '11', '12', '10', '12']\n"
     ]
    }
   ],
   "source": [
    "list_Month = [i.split('-')[1] for i in list_dates]\n",
    "print(list_Month)"
   ]
  },
  {
   "cell_type": "code",
   "execution_count": 76,
   "id": "b70aff34",
   "metadata": {},
   "outputs": [
    {
     "data": {
      "text/plain": [
       "[('11 месяц', 'выручка 4944'),\n",
       " ('11 месяц', 'выручка 3701'),\n",
       " ('11 месяц', 'выручка 7037'),\n",
       " ('11 месяц', 'выручка 4274'),\n",
       " ('11 месяц', 'выручка 2004'),\n",
       " ('11 месяц', 'выручка 2822'),\n",
       " ('11 месяц', 'выручка 316')]"
      ]
     },
     "execution_count": 76,
     "metadata": {},
     "output_type": "execute_result"
    }
   ],
   "source": [
    "November_Revenue = [(f'{list_Month[i]} месяц', f'выручка {amount[j]}')\n",
    "                          for i in range(len(list_Month))\n",
    "                          for j in range(len(amount))\n",
    "                          if i == j and list_Month[i] == '11']\n",
    "November_Revenue"
   ]
  },
  {
   "cell_type": "code",
   "execution_count": 81,
   "id": "4bac4313",
   "metadata": {},
   "outputs": [
    {
     "name": "stdout",
     "output_type": "stream",
     "text": [
      "За 11 месяц выручка составило: 25098\n"
     ]
    }
   ],
   "source": [
    "print(f'За {November_Revenue[0][0]} выручка составила: {sum([amount for dates, amount in zip(list_dates, amount) if dates[5:7] == \"11\"])}')"
   ]
  },
  {
   "cell_type": "markdown",
   "id": "208f8e7a",
   "metadata": {},
   "source": [
    "### Условие 4.2\n",
    "Найдите выручку компании в зависимости от месяца.<br>\n",
    "Для этого напишите функцию, которая на вход принимает список с датами и список с выручкой, а на выходе словарь, где ключи - это месяцы, а значения - это выручка.<br>\n",
    "Используйте аннотирование типов."
   ]
  },
  {
   "cell_type": "code",
   "execution_count": null,
   "id": "0fbb9e28",
   "metadata": {},
   "outputs": [],
   "source": [
    "def revenue_by_month(list_date: list, list_revenue: list) -> dict:\n",
    "    dict_Month = {}\n",
    "    for i in range(len(list_date)):\n",
    "        if list_date[i].split('-')[1] in dict_Month.keys():\n",
    "            dict_Month[list_date[i].split('-')[1]] += list_revenue[i]\n",
    "        else:\n",
    "            dict_Month[list_date[i].split('-')[1]] = list_revenue[i]\n",
    "    return dict_Month"
   ]
  },
  {
   "cell_type": "code",
   "execution_count": 82,
   "id": "4aa67b0e",
   "metadata": {},
   "outputs": [
    {
     "data": {
      "text/plain": [
       "{'09': 25647, '12': 45452, '10': 28645, '11': 25098}"
      ]
     },
     "execution_count": 82,
     "metadata": {},
     "output_type": "execute_result"
    }
   ],
   "source": [
    "revenue_by_month(list_dates, amount)"
   ]
  }
 ],
 "metadata": {
  "kernelspec": {
   "display_name": "Python 3 (ipykernel)",
   "language": "python",
   "name": "python3"
  },
  "language_info": {
   "codemirror_mode": {
    "name": "ipython",
    "version": 3
   },
   "file_extension": ".py",
   "mimetype": "text/x-python",
   "name": "python",
   "nbconvert_exporter": "python",
   "pygments_lexer": "ipython3",
   "version": "3.11.2"
  },
  "vscode": {
   "interpreter": {
    "hash": "aee8b7b246df8f9039afb4144a1f6fd8d2ca17a180786b69acc140d282b71a49"
   }
  }
 },
 "nbformat": 4,
 "nbformat_minor": 5
}
